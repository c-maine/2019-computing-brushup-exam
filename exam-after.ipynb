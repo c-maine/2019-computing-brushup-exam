{
 "cells": [
  {
   "cell_type": "markdown",
   "metadata": {
    "ein.tags": "worksheet-0",
    "slideshow": {
     "slide_type": "-"
    }
   },
   "source": [
    "# Problem 1: Data with R"
   ]
  },
  {
   "cell_type": "code",
   "execution_count": 2,
   "metadata": {
    "autoscroll": false,
    "ein.hycell": false,
    "ein.tags": "worksheet-0",
    "slideshow": {
     "slide_type": "-"
    }
   },
   "outputs": [
    {
     "name": "stdout",
     "output_type": "stream",
     "text": [
      "The rpy2.ipython extension is already loaded. To reload it, use:\n",
      "  %reload_ext rpy2.ipython\n"
     ]
    }
   ],
   "source": [
    "%load_ext rpy2.ipython"
   ]
  },
  {
   "cell_type": "code",
   "execution_count": 3,
   "metadata": {
    "autoscroll": false,
    "ein.hycell": false,
    "ein.tags": "worksheet-0",
    "slideshow": {
     "slide_type": "-"
    }
   },
   "outputs": [
    {
     "name": "stderr",
     "output_type": "stream",
     "text": [
      "/opt/conda/lib/python3.7/site-packages/rpy2/rinterface/__init__.py:146: RRuntimeWarning: ── Attaching packages ─────────────────────────────────────── tidyverse 1.2.1 ──\n",
      "\n",
      "  warnings.warn(x, RRuntimeWarning)\n",
      "/opt/conda/lib/python3.7/site-packages/rpy2/rinterface/__init__.py:146: RRuntimeWarning: ✔ ggplot2 3.2.1     ✔ purrr   0.3.2\n",
      "✔ tibble  2.1.3     ✔ dplyr   0.8.3\n",
      "✔ tidyr   0.8.3     ✔ stringr 1.4.0\n",
      "✔ readr   1.3.1     ✔ forcats 0.4.0\n",
      "\n",
      "  warnings.warn(x, RRuntimeWarning)\n",
      "/opt/conda/lib/python3.7/site-packages/rpy2/rinterface/__init__.py:146: RRuntimeWarning: ── Conflicts ────────────────────────────────────────── tidyverse_conflicts() ──\n",
      "✖ dplyr::filter() masks stats::filter()\n",
      "✖ dplyr::lag()    masks stats::lag()\n",
      "\n",
      "  warnings.warn(x, RRuntimeWarning)\n"
     ]
    }
   ],
   "source": [
    "%%R\n",
    "\n",
    "library(tidyverse)"
   ]
  },
  {
   "cell_type": "code",
   "execution_count": 7,
   "metadata": {
    "autoscroll": false,
    "ein.hycell": false,
    "ein.tags": "worksheet-0",
    "slideshow": {
     "slide_type": "-"
    }
   },
   "outputs": [
    {
     "data": {
      "text/plain": [
       "# A tibble: 1,000 x 2\n",
       "        X label\n",
       "    <dbl> <dbl>\n",
       " 1 2.46       0\n",
       " 2 1.55       0\n",
       " 3 5.51       0\n",
       " 4 0.119      0\n",
       " 5 7.51       0\n",
       " 6 0.800      0\n",
       " 7 1.91       0\n",
       " 8 1.21       0\n",
       " 9 2.86       0\n",
       "10 0.0948     0\n",
       "# … with 990 more rows\n"
      ]
     },
     "metadata": {},
     "output_type": "display_data"
    }
   ],
   "source": [
    "%%R\n",
    "# make sure to get your data in the same folder, next to the notebook file\n",
    "# so that this will run!\n",
    "\n",
    "\n",
    "dat <- read_csv('classification_data.csv')\n",
    "print(dat)"
   ]
  },
  {
   "cell_type": "code",
   "execution_count": 27,
   "metadata": {
    "autoscroll": false,
    "ein.hycell": false,
    "ein.tags": "worksheet-0",
    "slideshow": {
     "slide_type": "-"
    }
   },
   "outputs": [
    {
     "name": "stdout",
     "output_type": "stream",
     "text": [
      "\n",
      "Error in (function (file = \"\", n = NULL, text = NULL, prompt = \"?\", keep.source = getOption(\"keep.source\"),  : \n",
      "  <text>:18:8: unexpected '='\n",
      "17: #Plot using graph,  add z as kernel estimator          \n",
      "18: ggplot =\n",
      "           ^\n"
     ]
    },
    {
     "name": "stderr",
     "output_type": "stream",
     "text": [
      "/opt/conda/lib/python3.7/site-packages/rpy2/rinterface/__init__.py:146: RRuntimeWarning: Error in (function (file = \"\", n = NULL, text = NULL, prompt = \"?\", keep.source = getOption(\"keep.source\"),  : \n",
      "  <text>:18:8: unexpected '='\n",
      "17: #Plot using graph,  add z as kernel estimator          \n",
      "18: ggplot =\n",
      "           ^\n",
      "\n",
      "  warnings.warn(x, RRuntimeWarning)\n"
     ]
    }
   ],
   "source": [
    "%%R\n",
    "\n",
    "# Your data consists of an \"X\" column and a \"label\" column\n",
    "# Use ggplot to plot a kernel density estimate of each label (overlayed on the same plot)\n",
    "# hint: Don't forget to make sure the labels are factors!\n",
    "# hint hint: Read the errors carefully! \n",
    "# Read the documentation for parse_factor (readr) if confused!\n",
    "\n",
    "# Change the type of the X and label columns factors\n",
    "\n",
    "dat %>% \n",
    "    mutate(Label = parse_factor(label = parse_factor(label) ) %>%\n",
    "    mutate(X = parse_factor(X))%>%\n",
    "\n",
    "#Then I would use k kernel to create another variable z and then add that to the ggplot below\n",
    "\n",
    "           \n",
    "#Plot using graph,  add z as kernel estimator          \n",
    "ggplot = (dat, aes(x =X, y= label))+ geom(bar)\n"
   ]
  },
  {
   "cell_type": "markdown",
   "metadata": {
    "ein.tags": "worksheet-0",
    "slideshow": {
     "slide_type": "-"
    }
   },
   "source": [
    "# Problem 2: Using Classes in Python\n",
    "\n",
    "In this problem, you will use the classes in the following cell. **You do not need to modify the classes or touch the code in the following cell in any way!**"
   ]
  },
  {
   "cell_type": "code",
   "execution_count": 20,
   "metadata": {
    "autoscroll": false,
    "ein.hycell": false,
    "ein.tags": "worksheet-0",
    "slideshow": {
     "slide_type": "-"
    }
   },
   "outputs": [],
   "source": [
    "from abc import ABC, abstractmethod\n",
    "from math import sqrt\n",
    "\n",
    "def smart_zip(a,b):\n",
    "    try:\n",
    "        return zip(a, b)\n",
    "    except TypeError:\n",
    "        return zip([a], [b])\n",
    "\n",
    "class AbstractKNeighbors(ABC):\n",
    "    def __init__(self, K):\n",
    "        self.K = K\n",
    "\n",
    "    def fit(self, X, y):\n",
    "        \"\"\" Train the model!\n",
    "\n",
    "        X should be a list of data points\n",
    "        y should be a list of labels\n",
    "        \"\"\"\n",
    "        self.X = X\n",
    "        self.y = y\n",
    "        return self\n",
    "\n",
    "    @abstractmethod\n",
    "    def _make_prediction(self, labels):\n",
    "        pass\n",
    "\n",
    "    def predict(self, new_x):\n",
    "        \"\"\"Find the nearest K neighbors\n",
    "        \n",
    "        new_x should be a single data point\n",
    "        \"\"\"\n",
    "\n",
    "        dists = [sqrt(sum(([(i-j)**2 for i,j in smart_zip(x,new_x)])))\n",
    "                 for x in self.X]\n",
    "        sorted_neighbors = sorted(enumerate(dists),\n",
    "                                  key=lambda t: t[1])\n",
    "        labels = [self.y[i] for i,_ in sorted_neighbors]\n",
    "        return self._make_prediction(labels)\n",
    "\n",
    "\n",
    "class KNearestNeighbors(AbstractKNeighbors):\n",
    "    def _make_prediction(self, labels):\n",
    "        avg = sum(labels[:self.K])/self.K\n",
    "        return round(avg)\n",
    "\n",
    "class KFurthestNeighbors(AbstractKNeighbors):\n",
    "    def _make_prediction(self, labels):\n",
    "        avg = sum(labels[-self.K:])/self.K\n",
    "        return round(1 - avg)"
   ]
  },
  {
   "cell_type": "code",
   "execution_count": 21,
   "metadata": {
    "autoscroll": false,
    "ein.hycell": false,
    "ein.tags": "worksheet-0",
    "slideshow": {
     "slide_type": "-"
    }
   },
   "outputs": [],
   "source": [
    "from csv import reader\n",
    "\n",
    "with open('classification_data.csv', 'r') as f:\n",
    "    dat = list(reader(f))[1:]\n",
    "    dat = [[float(x), int(label)] for x,label in dat]"
   ]
  },
  {
   "cell_type": "markdown",
   "metadata": {
    "ein.tags": "worksheet-0",
    "slideshow": {
     "slide_type": "-"
    }
   },
   "source": [
    "## Problem 2.1: Shuffling!"
   ]
  },
  {
   "cell_type": "code",
   "execution_count": 33,
   "metadata": {
    "autoscroll": false,
    "ein.hycell": false,
    "ein.tags": "worksheet-0",
    "slideshow": {
     "slide_type": "-"
    }
   },
   "outputs": [
    {
     "name": "stdout",
     "output_type": "stream",
     "text": [
      "None\n"
     ]
    }
   ],
   "source": [
    "# In your data, \"X\" is a data point that is nothing more than\n",
    "# a single number. \n",
    "# Shuffle your data into a random order (use random.shuffle!)\n",
    "\n",
    "import random\n",
    "print (random.shuffle(dat))\n",
    "\n"
   ]
  },
  {
   "cell_type": "code",
   "execution_count": 32,
   "metadata": {
    "autoscroll": false,
    "ein.hycell": false,
    "ein.tags": "worksheet-0",
    "slideshow": {
     "slide_type": "-"
    }
   },
   "outputs": [],
   "source": [
    "# If you shuffled your data, this test should pass\n",
    "# (i.e. not throw an error)\n",
    "\n",
    "assert(sum([label for x,label in dat[:50]]) != 0)"
   ]
  },
  {
   "cell_type": "markdown",
   "metadata": {
    "ein.tags": "worksheet-0",
    "slideshow": {
     "slide_type": "-"
    }
   },
   "source": [
    "## Problem 2.2: Splitting!"
   ]
  },
  {
   "cell_type": "code",
   "execution_count": 51,
   "metadata": {
    "autoscroll": false,
    "ein.hycell": false,
    "ein.tags": "worksheet-0",
    "slideshow": {
     "slide_type": "-"
    }
   },
   "outputs": [],
   "source": [
    "# Split your data, which is now a list, into 2 sublists:\n",
    "# \"train\" and \"test\"\n",
    "# The \"train\" group should have 700 elements\n",
    "# The test group should have 300 elements\n",
    "# Each group should have the same format as the original data\n",
    "type(dat)\n",
    "train = dat[0:699]\n",
    "test = dat[700:999]\n"
   ]
  },
  {
   "cell_type": "code",
   "execution_count": 52,
   "metadata": {
    "autoscroll": false,
    "ein.hycell": false,
    "ein.tags": "worksheet-0",
    "slideshow": {
     "slide_type": "-"
    }
   },
   "outputs": [
    {
     "ename": "NameError",
     "evalue": "name 'x' is not defined",
     "output_type": "error",
     "traceback": [
      "\u001b[0;31m---------------------------------------------------------------------------\u001b[0m",
      "\u001b[0;31mNameError\u001b[0m                                 Traceback (most recent call last)",
      "\u001b[0;32m<ipython-input-52-651a8953e3d7>\u001b[0m in \u001b[0;36m<module>\u001b[0;34m\u001b[0m\n\u001b[1;32m      2\u001b[0m \u001b[0;31m# For each group (\"train\" and \"test\") split the X's from the labels.\u001b[0m\u001b[0;34m\u001b[0m\u001b[0;34m\u001b[0m\u001b[0;34m\u001b[0m\u001b[0m\n\u001b[1;32m      3\u001b[0m \u001b[0;34m\u001b[0m\u001b[0m\n\u001b[0;32m----> 4\u001b[0;31m \u001b[0mtrainX\u001b[0m\u001b[0;34m=\u001b[0m \u001b[0mtrain\u001b[0m\u001b[0;34m[\u001b[0m\u001b[0mx\u001b[0m\u001b[0;34m]\u001b[0m\u001b[0;34m\u001b[0m\u001b[0;34m\u001b[0m\u001b[0m\n\u001b[0m\u001b[1;32m      5\u001b[0m \u001b[0mtrainlabel\u001b[0m\u001b[0;34m=\u001b[0m \u001b[0mtrain\u001b[0m\u001b[0;34m[\u001b[0m\u001b[0mlabel\u001b[0m\u001b[0;34m]\u001b[0m\u001b[0;34m\u001b[0m\u001b[0;34m\u001b[0m\u001b[0m\n\u001b[1;32m      6\u001b[0m \u001b[0mtestX\u001b[0m\u001b[0;34m=\u001b[0m \u001b[0mtest\u001b[0m\u001b[0;34m[\u001b[0m\u001b[0mx\u001b[0m\u001b[0;34m]\u001b[0m\u001b[0;34m\u001b[0m\u001b[0;34m\u001b[0m\u001b[0m\n",
      "\u001b[0;31mNameError\u001b[0m: name 'x' is not defined"
     ]
    }
   ],
   "source": [
    "# Now you will need to make another split, within the groups!\n",
    "# For each group (\"train\" and \"test\") split the X's from the labels.\n",
    "\n",
    "trainX= train[x]\n",
    "trainlabel= train[label]\n",
    "testX= test[x]\n",
    "testlabel = train [label]"
   ]
  },
  {
   "cell_type": "markdown",
   "metadata": {
    "ein.tags": "worksheet-0",
    "slideshow": {
     "slide_type": "-"
    }
   },
   "source": [
    "## Problem 2.3: Testing models!"
   ]
  },
  {
   "cell_type": "code",
   "execution_count": null,
   "metadata": {
    "autoscroll": false,
    "ein.hycell": false,
    "ein.tags": "worksheet-0",
    "slideshow": {
     "slide_type": "-"
    }
   },
   "outputs": [],
   "source": [
    "# For each model: \n",
    "# 1. Create an instance the class, with constructor parameters: K=5\n",
    "# 2. Train the instance on the \"train\" groups X's and labels (y's)\n",
    "# 3. Test how well the instance does: \n",
    "#    A. Use the trained instance to predict the label of each \"X\" in the \"test\" group\n",
    "#    B. Use your \"test\" labels to see if the predicted label is equal the true label\n",
    "\n"
   ]
  },
  {
   "cell_type": "code",
   "execution_count": null,
   "metadata": {
    "autoscroll": false,
    "ein.hycell": false,
    "ein.tags": "worksheet-0",
    "slideshow": {
     "slide_type": "-"
    }
   },
   "outputs": [],
   "source": [
    "# Compare the two classes of models!"
   ]
  }
 ],
 "metadata": {
  "kernelspec": {
   "display_name": "Python 3",
   "language": "python",
   "name": "python3"
  },
  "language_info": {
   "codemirror_mode": {
    "name": "ipython",
    "version": 3
   },
   "file_extension": ".py",
   "mimetype": "text/x-python",
   "name": "python",
   "nbconvert_exporter": "python",
   "pygments_lexer": "ipython3",
   "version": "3.7.3"
  },
  "name": "exam-after.ipynb"
 },
 "nbformat": 4,
 "nbformat_minor": 2
}
